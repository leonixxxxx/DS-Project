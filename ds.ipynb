{
 "cells": [
  {
   "cell_type": "code",
   "execution_count": 2,
   "metadata": {},
   "outputs": [],
   "source": [
    "import pandas as pd\n",
    "from bs4 import BeautifulSoup\n",
    "import os\n",
    "import json\n",
    "from datetime import datetime\n",
    "from collections import defaultdict\n"
   ]
  },
  {
   "cell_type": "code",
   "execution_count": null,
   "metadata": {},
   "outputs": [],
   "source": [
    "## Number of researchs based on subject areas in each year ##\n",
    "\n",
    "def extract_year(data):\n",
    "    \"\"\"Extract year from 'prism:coverDate' or return 'Unknown'.\"\"\"\n",
    "    cover_date = data.get('abstracts-retrieval-response', {}).get('coredata', {}).get('prism:coverDate', None)\n",
    "    if cover_date:\n",
    "        return datetime.strptime(cover_date, \"%Y-%m-%d\").year\n",
    "    return 'Unknown'\n",
    "\n",
    "def process_file(file_path):\n",
    "    \"\"\"Process a single JSON file to extract year and subject areas.\"\"\"\n",
    "    with open(file_path, 'r', encoding='utf-8') as f:\n",
    "        data = json.load(f)\n",
    "        # Extract publication year\n",
    "        year = extract_year(data)\n",
    "        # Extract subject areas\n",
    "        subject_areas = data.get('abstracts-retrieval-response', {}).get('subject-areas', {}).get('subject-area', [])\n",
    "\n",
    "        return [(year, area['@abbrev']) for area in subject_areas]\n",
    "\n",
    "def process_all_files(base_dir):\n",
    "    \"\"\"Process all files in the directory structure.\"\"\"\n",
    "    subject_area_counts = defaultdict(lambda: defaultdict(int))\n",
    "    \n",
    "    for year_folder in os.listdir(base_dir):\n",
    "        year_path = os.path.join(base_dir, year_folder)\n",
    "        if os.path.isdir(year_path):\n",
    "            for file_name in os.listdir(year_path):\n",
    "                file_path = os.path.join(year_path, file_name)\n",
    "                if file_path.endswith('.json'):\n",
    "                    # Process each JSON file\n",
    "                    results = process_file(file_path)\n",
    "\n",
    "                    for year, subject_area in results:\n",
    "                        subject_area_counts[year][subject_area] += 1\n",
    "    \n",
    "    return subject_area_counts\n",
    "\n",
    "# Base directory where project files are stored\n",
    "base_dir = \"/Users/im/Documents/Data Sci/Project/Project/chulaDatabase\"\n",
    "\n",
    "# Process all files and get subject area trends\n",
    "subject_area_trends = process_all_files(base_dir)\n",
    "\n",
    "# Example: Print trends\n",
    "for year, areas in subject_area_trends.items():\n",
    "    unique_subject_areas = len(areas)  # Number of unique subject areas in that year\n",
    "    print(f\"Year {year} has {unique_subject_areas} unique subject areas.\")\n",
    "    print(f\"Year: {year}\")\n",
    "    for area, count in areas.items():\n",
    "        print(f\"  {area}: {count}\")\n",
    "\n"
   ]
  },
  {
   "cell_type": "code",
   "execution_count": 1,
   "metadata": {},
   "outputs": [
    {
     "name": "stdout",
     "output_type": "stream",
     "text": [
      "kuay\n"
     ]
    }
   ],
   "source": [
    "print('kuay')"
   ]
  }
 ],
 "metadata": {
  "kernelspec": {
   "display_name": "myenvironment",
   "language": "python",
   "name": "python3"
  },
  "language_info": {
   "codemirror_mode": {
    "name": "ipython",
    "version": 3
   },
   "file_extension": ".py",
   "mimetype": "text/x-python",
   "name": "python",
   "nbconvert_exporter": "python",
   "pygments_lexer": "ipython3",
   "version": "3.12.5"
  }
 },
 "nbformat": 4,
 "nbformat_minor": 2
}
